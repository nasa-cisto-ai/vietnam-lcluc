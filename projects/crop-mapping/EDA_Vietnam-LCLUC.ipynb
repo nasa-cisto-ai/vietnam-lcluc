{
 "cells": [
  {
   "cell_type": "code",
   "execution_count": 22,
   "id": "b80e932f",
   "metadata": {},
   "outputs": [],
   "source": [
    "import numpy as np\n",
    "import xarray as xr\n",
    "import pandas as pd\n",
    "import matplotlib.pyplot as plt"
   ]
  },
  {
   "cell_type": "code",
   "execution_count": null,
   "id": "5a6c7f9f",
   "metadata": {},
   "outputs": [],
   "source": []
  },
  {
   "cell_type": "code",
   "execution_count": 23,
   "id": "9e6edd26",
   "metadata": {},
   "outputs": [],
   "source": [
    "configFileName = 'config/VietnamCropDatasetLocal.csv'"
   ]
  },
  {
   "cell_type": "code",
   "execution_count": 24,
   "id": "53b2f2b8",
   "metadata": {},
   "outputs": [
    {
     "data": {
      "text/html": [
       "<div>\n",
       "<style scoped>\n",
       "    .dataframe tbody tr th:only-of-type {\n",
       "        vertical-align: middle;\n",
       "    }\n",
       "\n",
       "    .dataframe tbody tr th {\n",
       "        vertical-align: top;\n",
       "    }\n",
       "\n",
       "    .dataframe thead th {\n",
       "        text-align: right;\n",
       "    }\n",
       "</style>\n",
       "<table border=\"1\" class=\"dataframe\">\n",
       "  <thead>\n",
       "    <tr style=\"text-align: right;\">\n",
       "      <th></th>\n",
       "      <th>data</th>\n",
       "      <th>label</th>\n",
       "      <th>ntiles</th>\n",
       "      <th>ymin</th>\n",
       "      <th>ymax</th>\n",
       "      <th>xmin</th>\n",
       "      <th>xmax</th>\n",
       "    </tr>\n",
       "  </thead>\n",
       "  <tbody>\n",
       "    <tr>\n",
       "      <th>0</th>\n",
       "      <td>/Users/jacaraba/Desktop/CURRENT_PROJECTS/LCLUC...</td>\n",
       "      <td>/Users/jacaraba/Desktop/CURRENT_PROJECTS/LCLUC...</td>\n",
       "      <td>20</td>\n",
       "      <td>0</td>\n",
       "      <td>5000</td>\n",
       "      <td>0</td>\n",
       "      <td>5000</td>\n",
       "    </tr>\n",
       "    <tr>\n",
       "      <th>1</th>\n",
       "      <td>/Users/jacaraba/Desktop/CURRENT_PROJECTS/LCLUC...</td>\n",
       "      <td>/Users/jacaraba/Desktop/CURRENT_PROJECTS/LCLUC...</td>\n",
       "      <td>20</td>\n",
       "      <td>0</td>\n",
       "      <td>5000</td>\n",
       "      <td>0</td>\n",
       "      <td>5000</td>\n",
       "    </tr>\n",
       "    <tr>\n",
       "      <th>2</th>\n",
       "      <td>/Users/jacaraba/Desktop/CURRENT_PROJECTS/LCLUC...</td>\n",
       "      <td>/Users/jacaraba/Desktop/CURRENT_PROJECTS/LCLUC...</td>\n",
       "      <td>20</td>\n",
       "      <td>0</td>\n",
       "      <td>5000</td>\n",
       "      <td>0</td>\n",
       "      <td>5000</td>\n",
       "    </tr>\n",
       "  </tbody>\n",
       "</table>\n",
       "</div>"
      ],
      "text/plain": [
       "                                                data  \\\n",
       "0  /Users/jacaraba/Desktop/CURRENT_PROJECTS/LCLUC...   \n",
       "1  /Users/jacaraba/Desktop/CURRENT_PROJECTS/LCLUC...   \n",
       "2  /Users/jacaraba/Desktop/CURRENT_PROJECTS/LCLUC...   \n",
       "\n",
       "                                               label  ntiles  ymin  ymax  \\\n",
       "0  /Users/jacaraba/Desktop/CURRENT_PROJECTS/LCLUC...      20     0  5000   \n",
       "1  /Users/jacaraba/Desktop/CURRENT_PROJECTS/LCLUC...      20     0  5000   \n",
       "2  /Users/jacaraba/Desktop/CURRENT_PROJECTS/LCLUC...      20     0  5000   \n",
       "\n",
       "   xmin  xmax  \n",
       "0     0  5000  \n",
       "1     0  5000  \n",
       "2     0  5000  "
      ]
     },
     "execution_count": 24,
     "metadata": {},
     "output_type": "execute_result"
    }
   ],
   "source": [
    "# lets get the dataset file\n",
    "df = pd.read_csv(configFileName)\n",
    "df"
   ]
  },
  {
   "cell_type": "code",
   "execution_count": 28,
   "id": "975a2c93",
   "metadata": {},
   "outputs": [
    {
     "name": "stdout",
     "output_type": "stream",
     "text": [
      "(7, 5000, 5000) (5000, 5000) [ 0  1  2  4  5  6 15]\n",
      "(7, 5000, 5000) (5000, 5000) [ 0  1  2  3  4  5  6 15]\n",
      "(7, 5000, 5000) (5000, 5000) [ 0  2  4  5  6 15]\n"
     ]
    }
   ],
   "source": [
    "# read some of the images\n",
    "for i in df.index:\n",
    "    x = xr.open_rasterio(df['data'][i]).values\n",
    "    y = np.squeeze(xr.open_rasterio(df['label'][i]).values)\n",
    "    print(x.shape, y.shape, np.unique(y))"
   ]
  },
  {
   "cell_type": "markdown",
   "id": "1259d3cd",
   "metadata": {},
   "source": [
    "Requires us to merge 15 into 5 and go from there. There are several clouds that might be involved that will need other types of classes."
   ]
  },
  {
   "cell_type": "markdown",
   "id": "0dbd5287",
   "metadata": {},
   "source": [
    "## Working with color corrections"
   ]
  },
  {
   "cell_type": "code",
   "execution_count": null,
   "id": "e8beb6da",
   "metadata": {},
   "outputs": [],
   "source": []
  },
  {
   "cell_type": "code",
   "execution_count": null,
   "id": "dd483db7",
   "metadata": {},
   "outputs": [],
   "source": [
    "# show the color matching card in the reference image and input image,\n",
    "# respectively\n",
    "cv2.imshow(\"Reference Color Card\", refCard)\n",
    "cv2.imshow(\"Input Color Card\", imageCard)\n",
    "# apply histogram matching from the color matching card in the\n",
    "# reference image to the color matching card in the input image\n",
    "print(\"[INFO] matching images...\")\n",
    "imageCard = exposure.match_histograms(imageCard, refCard,\n",
    "\tmultichannel=True)\n",
    "# show our input color matching card after histogram matching\n",
    "cv2.imshow(\"Input Color Card After Matching\", imageCard)\n",
    "cv2.waitKey(0)"
   ]
  }
 ],
 "metadata": {
  "kernelspec": {
   "display_name": "Python 3",
   "language": "python",
   "name": "python3"
  },
  "language_info": {
   "codemirror_mode": {
    "name": "ipython",
    "version": 3
   },
   "file_extension": ".py",
   "mimetype": "text/x-python",
   "name": "python",
   "nbconvert_exporter": "python",
   "pygments_lexer": "ipython3",
   "version": "3.8.10"
  }
 },
 "nbformat": 4,
 "nbformat_minor": 5
}
