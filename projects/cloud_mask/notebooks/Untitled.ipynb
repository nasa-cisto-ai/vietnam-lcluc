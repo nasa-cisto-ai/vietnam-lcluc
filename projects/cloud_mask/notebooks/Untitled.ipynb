{
 "cells": [
  {
   "cell_type": "markdown",
   "id": "412cde4a",
   "metadata": {},
   "source": [
    "# Postprocessing"
   ]
  },
  {
   "cell_type": "code",
   "execution_count": null,
   "id": "d0e6d842",
   "metadata": {},
   "outputs": [],
   "source": [
    "import numpy as np\n",
    "import rasterio as rio\n",
    "import xarray as xr\n",
    "from scipy.ndimage import median_filter, binary_fill_holes"
   ]
  },
  {
   "cell_type": "code",
   "execution_count": null,
   "id": "989f96e9",
   "metadata": {},
   "outputs": [],
   "source": [
    "image_filename = ''\n",
    "output_filename = ''"
   ]
  },
  {
   "cell_type": "code",
   "execution_count": null,
   "id": "2eb6d17e",
   "metadata": {},
   "outputs": [],
   "source": [
    "def arr_to_tif(raster_f, segments, out_tif='s.tif', ndval=-9999):\n",
    "    \"\"\"\n",
    "    Save array into GeoTIF file.\n",
    "    Args:\n",
    "        raster_f (str): input data filename\n",
    "        segments (numpy.array): array with values\n",
    "        out_tif (str): output filename\n",
    "        ndval (int): no data value\n",
    "    Return:\n",
    "        save GeoTif to local disk\n",
    "    ----------\n",
    "    Example\n",
    "    ----------\n",
    "        arr_to_tif('inp.tif', segments, 'out.tif', ndval=-9999)\n",
    "    \"\"\"\n",
    "    # get geospatial profile, will apply for output file\n",
    "    with rio.open(raster_f) as src:\n",
    "        meta = src.profile\n",
    "        nodatavals = src.read_masks(1).astype('int16')\n",
    "    # print(meta)\n",
    "\n",
    "    # load numpy array if file is given\n",
    "    if type(segments) == str:\n",
    "        segments = np.load(segments)\n",
    "    segments = segments.astype('int16')\n",
    "    # print(segments.dtype)  # check datatype\n",
    "\n",
    "    nodatavals[nodatavals == 0] = ndval\n",
    "    segments[nodatavals == ndval] = nodatavals[nodatavals == ndval]\n",
    "\n",
    "    out_meta = meta  # modify profile based on numpy array\n",
    "    out_meta['count'] = 1  # output is single band\n",
    "    out_meta['dtype'] = 'int16'  # data type is float64\n",
    "\n",
    "    # write to a raster\n",
    "    with rio.open(out_tif, 'w', **out_meta) as dst:\n",
    "        dst.write(segments, 1)"
   ]
  },
  {
   "cell_type": "code",
   "execution_count": null,
   "id": "9a36ba76",
   "metadata": {},
   "outputs": [],
   "source": [
    "image = np.squueze(xr.open_rasterio(image_filename).values)\n",
    "image.shape\n",
    "\n",
    "#merged_mask = median_filter(merged_mask, size=25)\n",
    "#            merged_mask = self._binary_fill(merged_mask)\n",
    "#postprocessed = \n",
    "#to_raster()"
   ]
  }
 ],
 "metadata": {
  "kernelspec": {
   "display_name": "Python 3",
   "language": "python",
   "name": "python3"
  },
  "language_info": {
   "codemirror_mode": {
    "name": "ipython",
    "version": 3
   },
   "file_extension": ".py",
   "mimetype": "text/x-python",
   "name": "python",
   "nbconvert_exporter": "python",
   "pygments_lexer": "ipython3",
   "version": "3.8.10"
  }
 },
 "nbformat": 4,
 "nbformat_minor": 5
}
