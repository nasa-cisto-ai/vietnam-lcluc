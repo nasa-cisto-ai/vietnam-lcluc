{
 "cells": [
  {
   "cell_type": "code",
   "execution_count": 6,
   "id": "5c21d0d9-dde2-41a9-8b79-51da73a75be0",
   "metadata": {},
   "outputs": [],
   "source": [
    "import os\n",
    "from glob import glob\n",
    "from pathlib import Path\n",
    "\n",
    "import numpy as np\n",
    "import rioxarray as rxr\n",
    "import matplotlib.pyplot as plt"
   ]
  },
  {
   "cell_type": "code",
   "execution_count": 7,
   "id": "759f1cc3-23e1-4608-8f35-22f45bbdf221",
   "metadata": {},
   "outputs": [
    {
     "name": "stdout",
     "output_type": "stream",
     "text": [
      "Label filenames: ['/adapt/nobackup/projects/ilab/projects/Senegal/Casamance_training_v2/Tappan05_WV02_20110430_M1BS_103001000A27E100_mask_v2.tif', '/adapt/nobackup/projects/ilab/projects/Senegal/Casamance_training_v2/Tappan05_WV02_20181217_M1BS_1030010089CC6D00_mask_v2.tif', '/adapt/nobackup/projects/ilab/projects/Senegal/Casamance_training_v2/Tappan02_WV03_20160123_M1BS_1040010018A59100_mask_v2.tif', '/adapt/nobackup/projects/ilab/projects/Senegal/Casamance_training_v2/Tappan04_WV02_20120218_M1BS_103001001077BE00_mask_v2.tif', '/adapt/nobackup/projects/ilab/projects/Senegal/Casamance_training_v2/Tappan05_WV02_20110207_M1BS_1030010008B55200_mask_v2.tif', '/adapt/nobackup/projects/ilab/projects/Senegal/Casamance_training_v2/Tappan04_WV03_20160123_M1BS_1040010018A59100_mask_v2.tif', '/adapt/nobackup/projects/ilab/projects/Senegal/Casamance_training_v2/Tappan02_WV02_20120218_M1BS_103001001077BE00_mask_v2.tif']\n"
     ]
    }
   ],
   "source": [
    "filenames = glob('/adapt/nobackup/projects/ilab/projects/Senegal/Casamance_training_v2/*.tif')\n",
    "print(f'Label filenames: {filenames}')"
   ]
  },
  {
   "cell_type": "code",
   "execution_count": 14,
   "id": "c773eae0-45ae-43cf-b83f-287aa0e4237c",
   "metadata": {},
   "outputs": [
    {
     "name": "stdout",
     "output_type": "stream",
     "text": [
      "[0 1 2 3 4 6] [ 3230128  5514388 14589135    27658     1044  1637647]\n"
     ]
    },
    {
     "ename": "ValueError",
     "evalue": "too many values to unpack (expected 2)",
     "output_type": "error",
     "traceback": [
      "\u001b[0;31m---------------------------------------------------------------------------\u001b[0m",
      "\u001b[0;31mValueError\u001b[0m                                Traceback (most recent call last)",
      "\u001b[0;32m/tmp/ipykernel_21604/1934902244.py\u001b[0m in \u001b[0;36m<module>\u001b[0;34m\u001b[0m\n\u001b[1;32m      6\u001b[0m     \u001b[0mprint\u001b[0m\u001b[0;34m(\u001b[0m\u001b[0munique\u001b[0m\u001b[0;34m[\u001b[0m\u001b[0;36m0\u001b[0m\u001b[0;34m]\u001b[0m\u001b[0;34m,\u001b[0m \u001b[0munique\u001b[0m\u001b[0;34m[\u001b[0m\u001b[0;36m1\u001b[0m\u001b[0;34m]\u001b[0m\u001b[0;34m)\u001b[0m\u001b[0;34m\u001b[0m\u001b[0;34m\u001b[0m\u001b[0m\n\u001b[1;32m      7\u001b[0m \u001b[0;34m\u001b[0m\u001b[0m\n\u001b[0;32m----> 8\u001b[0;31m     \u001b[0;32mfor\u001b[0m \u001b[0mclass_id\u001b[0m\u001b[0;34m,\u001b[0m \u001b[0mclass_count\u001b[0m \u001b[0;32min\u001b[0m \u001b[0;34m(\u001b[0m\u001b[0munique\u001b[0m\u001b[0;34m[\u001b[0m\u001b[0;36m0\u001b[0m\u001b[0;34m]\u001b[0m\u001b[0;34m,\u001b[0m \u001b[0munique\u001b[0m\u001b[0;34m[\u001b[0m\u001b[0;36m1\u001b[0m\u001b[0;34m]\u001b[0m\u001b[0;34m)\u001b[0m\u001b[0;34m:\u001b[0m\u001b[0;34m\u001b[0m\u001b[0;34m\u001b[0m\u001b[0m\n\u001b[0m\u001b[1;32m      9\u001b[0m \u001b[0;34m\u001b[0m\u001b[0m\n\u001b[1;32m     10\u001b[0m         \u001b[0mprint\u001b[0m\u001b[0;34m(\u001b[0m\u001b[0mclass_id\u001b[0m\u001b[0;34m,\u001b[0m \u001b[0mclass_count\u001b[0m\u001b[0;34m)\u001b[0m\u001b[0;34m\u001b[0m\u001b[0;34m\u001b[0m\u001b[0m\n",
      "\u001b[0;31mValueError\u001b[0m: too many values to unpack (expected 2)"
     ]
    }
   ],
   "source": [
    "classes_count_dict = dict()\n",
    "for filename in filenames:\n",
    "    \n",
    "    data = rxr.open_rasterio(filename).values - 1\n",
    "    unique = np.unique(data, return_counts=True)\n",
    "    print(unique[0], unique[1])\n",
    "    \n",
    "    for class_id, class_count in (unique[0], unique[1]):\n",
    "        \n",
    "        print(class_id, class_count)\n",
    "    \n",
    "    "
   ]
  },
  {
   "cell_type": "code",
   "execution_count": null,
   "id": "5be58bb5-8eac-4b7a-aa07-204165c373e4",
   "metadata": {},
   "outputs": [],
   "source": [
    "labels = ['G1', 'G2', 'G3', 'G4', 'G5']\n",
    "men_means = [20, 34, 30, 35, 27]\n",
    "women_means = [25, 32, 34, 20, 25]\n",
    "\n",
    "x = np.arange(len(labels))  # the label locations\n",
    "width = 0.35  # the width of the bars\n",
    "\n",
    "fig, ax = plt.subplots()\n",
    "rects1 = ax.bar(x - width/2, men_means, width, label='Men')\n",
    "rects2 = ax.bar(x + width/2, women_means, width, label='Women')\n",
    "\n",
    "# Add some text for labels, title and custom x-axis tick labels, etc.\n",
    "ax.set_ylabel('Scores')\n",
    "ax.set_title('Scores by group and gender')\n",
    "ax.set_xticks(x, labels)\n",
    "ax.legend()\n",
    "\n",
    "ax.bar_label(rects1, padding=3)\n",
    "ax.bar_label(rects2, padding=3)\n",
    "\n",
    "fig.tight_layout()\n",
    "\n",
    "plt.show()"
   ]
  }
 ],
 "metadata": {
  "kernelspec": {
   "display_name": "ilab-kernel",
   "language": "python",
   "name": "python3"
  },
  "language_info": {
   "codemirror_mode": {
    "name": "ipython",
    "version": 3
   },
   "file_extension": ".py",
   "mimetype": "text/x-python",
   "name": "python",
   "nbconvert_exporter": "python",
   "pygments_lexer": "ipython3",
   "version": "3.7.12"
  }
 },
 "nbformat": 4,
 "nbformat_minor": 5
}
