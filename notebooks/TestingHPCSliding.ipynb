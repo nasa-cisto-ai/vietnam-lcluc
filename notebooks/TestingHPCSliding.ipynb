{
 "cells": [
  {
   "cell_type": "code",
   "execution_count": null,
   "id": "cbc4e82b-e674-4b04-aba2-49ea7887780d",
   "metadata": {},
   "outputs": [],
   "source": [
    "    def get_windows(self,\n",
    "                    chip_sz: Union[PosInt, Tuple[PosInt, PosInt]],\n",
    "                    stride: Union[PosInt, Tuple[PosInt, PosInt]],\n",
    "                    padding: Optional[Union[NonNegInt, Tuple[\n",
    "                        NonNegInt, NonNegInt]]] = None) -> List['Box']:\n",
    "        \"\"\"Returns a list of boxes representing windows generated using a\n",
    "        sliding window traversal with the specified chip_sz, stride, and\n",
    "        padding.\n",
    "        Each of chip_sz, stride, and padding can be either a positive int or\n",
    "        a tuple `(vertical-componet, horizontal-component)` of positive ints.\n",
    "        Padding currently only applies to the right and bottom edges.\n",
    "        Args:\n",
    "            chip_sz (Union[PosInt, Tuple[PosInt, PosInt]]): Size (h, w) of the\n",
    "                windows.\n",
    "            stride (Union[PosInt, Tuple[PosInt, PosInt]]): Distance between\n",
    "                windows.\n",
    "            padding (Optional[Union[PosInt, Tuple[PosInt, PosInt]]], optional):\n",
    "                Padding for the right and bottom edges. Defaults to None.\n",
    "        Returns:\n",
    "            List[Box]: list of Box objects\n",
    "        \"\"\"\n",
    "        if not isinstance(chip_sz, tuple):\n",
    "            chip_sz = (chip_sz, chip_sz)\n",
    "\n",
    "        if not isinstance(stride, tuple):\n",
    "            stride = (stride, stride)\n",
    "\n",
    "        if padding is None:\n",
    "            padding = chip_sz\n",
    "        elif not isinstance(padding, tuple):\n",
    "            padding = (padding, padding)\n",
    "\n",
    "        h_padding, w_padding = padding\n",
    "        height, width = chip_sz\n",
    "        h_stride, w_stride = stride\n",
    "\n",
    "        ymax = self.ymax - height + h_padding\n",
    "        xmax = self.xmax - width + w_padding\n",
    "\n",
    "        result = []\n",
    "        for row in range(self.ymin, ymax, h_stride):\n",
    "            for col in range(self.xmin, xmax, w_stride):\n",
    "                window = Box(row, col, row + height, col + width)\n",
    "                result.append(window)\n",
    "        return result"
   ]
  }
 ],
 "metadata": {
  "kernelspec": {
   "display_name": "ilab-kernel",
   "language": "python",
   "name": "python3"
  },
  "language_info": {
   "codemirror_mode": {
    "name": "ipython",
    "version": 3
   },
   "file_extension": ".py",
   "mimetype": "text/x-python",
   "name": "python",
   "nbconvert_exporter": "python",
   "pygments_lexer": "ipython3",
   "version": "3.7.12"
  }
 },
 "nbformat": 4,
 "nbformat_minor": 5
}
